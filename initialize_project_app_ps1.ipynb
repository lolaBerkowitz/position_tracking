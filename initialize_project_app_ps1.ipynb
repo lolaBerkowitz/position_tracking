{
 "cells": [
  {
   "cell_type": "markdown",
   "metadata": {},
   "source": [
    "## Initializes DLC project for ephys tracking. \n",
    "\n",
    "** Run locally to run dlc GUI for labelling images **\n",
    "\n",
    "To run: \n",
    "1. Run Anaconda prompt as Administrator \n",
    "2. Activate DLC enviornment \n",
    "    ``` conda activate DLC-GPU ```\n",
    "3. cd to project folder \n",
    "\n",
    "    ``` F: ``` * if not in F drive\n",
    "    \n",
    "    ``` cd F:\\ClarkP30_Recordings ```\n",
    "3. Open Jupyter Lab \n",
    "    ``` jupyter lab ```\n",
    "4. Open ephys_tracking.ipynb found in ```F:\\ClarkP30_Recordings\\DLC```\n"
   ]
  },
  {
   "cell_type": "markdown",
   "metadata": {},
   "source": [
    "### Import deeplabcut toolbox "
   ]
  },
  {
   "cell_type": "code",
   "execution_count": 1,
   "metadata": {},
   "outputs": [],
   "source": [
    "import deeplabcut "
   ]
  },
  {
   "cell_type": "markdown",
   "metadata": {},
   "source": [
    "### Setup Project details"
   ]
  },
  {
   "cell_type": "code",
   "execution_count": 4,
   "metadata": {},
   "outputs": [],
   "source": [
    "# Setup Project \n",
    "task = 'linear_track' # Enter the name of your experiment Task\n",
    "experimenter = 'Berkowitz' # Enter the name of the experimenter\n",
    "project_path = 'D:/DLC_analysis/app_ps1/' "
   ]
  },
  {
   "cell_type": "markdown",
   "metadata": {},
   "source": [
    "### Set paths to video files used for generating your training set"
   ]
  },
  {
   "cell_type": "code",
   "execution_count": 2,
   "metadata": {},
   "outputs": [],
   "source": [
    "#These are the paths to the videos you'll be using to pull images for training set\n",
    "import glob as glob\n",
    "\n",
    "vid_path = 'D:/DLC_analysis/app_ps1/Videos//'\n",
    "video = glob.glob(vid_path+'*.avi') # Enter the paths of your videos OR FOLDER you want to grab frames from."
   ]
  },
  {
   "cell_type": "markdown",
   "metadata": {},
   "source": [
    "### For .mpg files, run the following in the terminal to convert to .avi\n",
    "Several bugs exsist for .mpg files when running DLC. Easiest to just convert to default. \n",
    "\n",
    "Navigate to videos. \n",
    "\n",
    "``` cd D:/DLC_analysis/app_ps1/Videos// ```\n",
    "\n",
    "Use ffmpeg to convert from .mpg to .avi. \n",
    "\n",
    "``` ffmpeg -i video_name.mpg -crf 17 video_name.avi ```"
   ]
  },
  {
   "cell_type": "markdown",
   "metadata": {},
   "source": [
    "### Initialize your project directory. "
   ]
  },
  {
   "cell_type": "code",
   "execution_count": 6,
   "metadata": {},
   "outputs": [
    {
     "name": "stdout",
     "output_type": "stream",
     "text": [
      "Project \"C:\\Users\\schafferlab\\Documents\\GitHub\\position_tracking\\linear_track-Berkowitz-2021-11-15\" already exists!\n"
     ]
    }
   ],
   "source": [
    "path_config_file = deeplabcut.create_new_project(task,experimenter,video,copy_videos=True) "
   ]
  },
  {
   "cell_type": "markdown",
   "metadata": {},
   "source": [
    "### Edit config file. \n",
    "\n",
    "* change bodyparts from default to red & green leds\n",
    "* change skeleton labels\n",
    "* set number of frames to use for training to 60\n",
    "* set network type at resnet_101 "
   ]
  },
  {
   "cell_type": "markdown",
   "metadata": {},
   "source": [
    "### Open config.yaml file, change parameters, save back to directory"
   ]
  },
  {
   "cell_type": "code",
   "execution_count": 8,
   "metadata": {},
   "outputs": [],
   "source": [
    "import ruamel.yaml\n",
    "\n",
    "config_path = 'd:\\\\Users\\\\BClarkLab\\\\GoogleDrive_\\\\DLC_analysis\\\\ephys_bitfields-Berkowitz-2021-02-09\\\\config.yaml'\n",
    "\n",
    "yaml = ruamel.yaml.YAML()\n",
    "# yaml.preserve_quotes = True\n",
    "with open(config_path) as fp:\n",
    "    data = yaml.load(fp)\n",
    "# Update config file to track leds     \n",
    "data['bodyparts'] = ['red_led','green_led']\n",
    "data['skeleton'] =[['red_led','green_led']]\n",
    "data['numframes2pick'] = 60\n",
    "data['default_net_type'] = 'resnet_101'\n",
    "\n",
    "with open(config_path, \"w\") as f:\n",
    "    yaml.dump(data, f)\n"
   ]
  },
  {
   "cell_type": "markdown",
   "metadata": {},
   "source": [
    "### Extract frames from videos for training\n",
    "\n",
    "```extract_frames``` will ask if you want to extract frames for each video. yes to include frames from that video or no to skip."
   ]
  },
  {
   "cell_type": "code",
   "execution_count": null,
   "metadata": {},
   "outputs": [],
   "source": [
    "deeplabcut.extract_frames(config_path,mode = 'automatic',algo = 'kmeans', crop = False)"
   ]
  },
  {
   "cell_type": "markdown",
   "metadata": {},
   "source": [
    "### Label Frames "
   ]
  },
  {
   "cell_type": "code",
   "execution_count": null,
   "metadata": {},
   "outputs": [
    {
     "name": "stdout",
     "output_type": "stream",
     "text": [
      "You can now check the labels, using 'check_labels' before proceeding. Then, you can use the function 'create_training_dataset' to create the training dataset.\n"
     ]
    }
   ],
   "source": [
    "deeplabcut.label_frames(config_path)"
   ]
  },
  {
   "cell_type": "markdown",
   "metadata": {},
   "source": [
    "### Create Training Dataset"
   ]
  },
  {
   "cell_type": "code",
   "execution_count": null,
   "metadata": {},
   "outputs": [],
   "source": [
    "deeplabcut.create_training_dataset(config_path, augmenter_type='imgaug')"
   ]
  },
  {
   "cell_type": "markdown",
   "metadata": {},
   "source": [
    "### Train Network"
   ]
  },
  {
   "cell_type": "code",
   "execution_count": null,
   "metadata": {},
   "outputs": [],
   "source": [
    "deeplabcut.train_network(config_path, shuffle=1, displayiters=10,saveiters=500)"
   ]
  },
  {
   "cell_type": "markdown",
   "metadata": {},
   "source": [
    "### Evaluate Network"
   ]
  },
  {
   "cell_type": "code",
   "execution_count": null,
   "metadata": {},
   "outputs": [],
   "source": [
    "deeplabcut.evaluate_network(config_path)\n"
   ]
  },
  {
   "cell_type": "markdown",
   "metadata": {},
   "source": [
    "### Analyze Videos"
   ]
  },
  {
   "cell_type": "markdown",
   "metadata": {},
   "source": [
    "deeplabcut.analyze_videos(config_path,videofile_path, videotype=VideoType,save_as_csv=True,dynamic = (True,.1,50))"
   ]
  }
 ],
 "metadata": {
  "interpreter": {
   "hash": "4163bc8bf7fd8ade246736dab064dec95b821d424b8bbc4a1c7b5a97286a5bfe"
  },
  "kernelspec": {
   "display_name": "Python 3.8.12 64-bit ('DEEPLABCUT': conda)",
   "name": "python3"
  },
  "language_info": {
   "codemirror_mode": {
    "name": "ipython",
    "version": 3
   },
   "file_extension": ".py",
   "mimetype": "text/x-python",
   "name": "python",
   "nbconvert_exporter": "python",
   "pygments_lexer": "ipython3",
   "version": "3.8.12"
  }
 },
 "nbformat": 4,
 "nbformat_minor": 4
}
