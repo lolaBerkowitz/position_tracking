{
 "cells": [
  {
   "cell_type": "markdown",
   "metadata": {},
   "source": [
    "## Initializes DLC project for ephys tracking. \n",
    "\n",
    "** Run locally to run dlc GUI for labelling images **\n",
    "\n",
    "To run: \n",
    "1. Run Anaconda prompt as Administrator \n",
    "2. Activate DLC enviornment \n",
    "    ``` conda activate DLC-GPU ```\n",
    "3. cd to project folder \n",
    "\n",
    "    ``` F: ``` * if not in F drive\n",
    "    \n",
    "    ``` cd F:\\ClarkP30_Recordings ```\n",
    "3. Open Jupyter Lab \n",
    "    ``` jupyter lab ```\n",
    "4. Open ephys_tracking.ipynb found in ```F:\\ClarkP30_Recordings\\DLC```\n"
   ]
  },
  {
   "cell_type": "markdown",
   "metadata": {},
   "source": [
    "### Import deeplabcut toolbox "
   ]
  },
  {
   "cell_type": "code",
   "execution_count": 2,
   "metadata": {},
   "outputs": [],
   "source": [
    "import deeplabcut "
   ]
  },
  {
   "cell_type": "markdown",
   "metadata": {},
   "source": [
    "### Setup Project details"
   ]
  },
  {
   "cell_type": "code",
   "execution_count": 4,
   "metadata": {},
   "outputs": [],
   "source": [
    "# Setup Project \n",
    "task = 'ephys_bitfields' # Enter the name of your experiment Task\n",
    "experimenter = 'Berkowitz' # Enter the name of the experimenter\n",
    "project_path = 'd:/Users/BClarkLab/GoogleDrive_/DLC_analysis/' "
   ]
  },
  {
   "cell_type": "markdown",
   "metadata": {},
   "source": [
    "### Set paths to video files used for generating your training set"
   ]
  },
  {
   "cell_type": "code",
   "execution_count": 5,
   "metadata": {},
   "outputs": [],
   "source": [
    "#These are the paths to the videos you'll be using to pull images for training set\n",
    "import glob as glob\n",
    "\n",
    "vid_path = 'd:\\\\Users\\\\BClarkLab\\\\GoogleDrive_\\\\DLC_analysis\\\\bitfields\\\\Videos\\\\'\n",
    "video = glob.glob(vid_path+'*.avi') # Enter the paths of your videos OR FOLDER you want to grab frames from."
   ]
  },
  {
   "cell_type": "markdown",
   "metadata": {},
   "source": [
    "### For .mpg files, run the following in the terminal to convert to .avi\n",
    "Several bugs exsist for .mpg files when running DLC. Easiest to just convert to default. \n",
    "\n",
    "Navigate to videos. \n",
    "\n",
    "``` cd F:/ClarkP30_Recordings/DLC/Videos/ ```\n",
    "\n",
    "Use ffmpeg to convert from .mpg to .avi. \n",
    "\n",
    "``` ffmpeg -i video_name.mpg -crf 17 video_name.avi ```"
   ]
  },
  {
   "cell_type": "markdown",
   "metadata": {},
   "source": [
    "### Initialize your project directory. "
   ]
  },
  {
   "cell_type": "code",
   "execution_count": null,
   "metadata": {},
   "outputs": [],
   "source": [
    "path_config_file = deeplabcut.create_new_project(task,experimenter,video,copy_videos=False) "
   ]
  },
  {
   "cell_type": "markdown",
   "metadata": {},
   "source": [
    "### Edit config file. \n",
    "\n",
    "* change bodyparts from default to red & green leds\n",
    "* change skeleton labels\n",
    "* set number of frames to use for training to 60\n",
    "* set network type at resnet_101 "
   ]
  },
  {
   "cell_type": "markdown",
   "metadata": {},
   "source": [
    "### Open config.yaml file, change parameters, save back to directory"
   ]
  },
  {
   "cell_type": "code",
   "execution_count": 8,
   "metadata": {},
   "outputs": [],
   "source": [
    "import ruamel.yaml\n",
    "\n",
    "config_path = 'd:\\\\Users\\\\BClarkLab\\\\GoogleDrive_\\\\DLC_analysis\\\\ephys_bitfields-Berkowitz-2021-02-09\\\\config.yaml'\n",
    "\n",
    "yaml = ruamel.yaml.YAML()\n",
    "# yaml.preserve_quotes = True\n",
    "with open(config_path) as fp:\n",
    "    data = yaml.load(fp)\n",
    "# Update config file to track leds     \n",
    "data['bodyparts'] = ['red_led','green_led']\n",
    "data['skeleton'] =[['red_led','green_led']]\n",
    "data['numframes2pick'] = 60\n",
    "data['default_net_type'] = 'resnet_101'\n",
    "\n",
    "with open(config_path, \"w\") as f:\n",
    "    yaml.dump(data, f)\n"
   ]
  },
  {
   "cell_type": "markdown",
   "metadata": {},
   "source": [
    "### Extract frames from videos for training\n",
    "\n",
    "```extract_frames``` will ask if you want to extract frames for each video. yes to include frames from that video or no to skip."
   ]
  },
  {
   "cell_type": "code",
   "execution_count": null,
   "metadata": {},
   "outputs": [],
   "source": [
    "deeplabcut.extract_frames(config_path,mode = 'automatic',algo = 'kmeans', crop = False)"
   ]
  },
  {
   "cell_type": "markdown",
   "metadata": {},
   "source": [
    "### Label Frames "
   ]
  },
  {
   "cell_type": "code",
   "execution_count": null,
   "metadata": {},
   "outputs": [
    {
     "name": "stdout",
     "output_type": "stream",
     "text": [
      "You can now check the labels, using 'check_labels' before proceeding. Then, you can use the function 'create_training_dataset' to create the training dataset.\n"
     ]
    }
   ],
   "source": [
    "# config_path = 'F:\\\\ClarkP30_Recordings\\\\DLC\\\\ephys-Berkowitz-2020-09-18\\\\config.yaml'\n",
    "deeplabcut.label_frames(config_path)"
   ]
  },
  {
   "cell_type": "markdown",
   "metadata": {},
   "source": [
    "### All set to train your network :) \n",
    "\n",
    "* Use Colab_TrainNetwork_VideoAnalysis.ipynb to create training dataset,train network, and analyze your videos"
   ]
  },
  {
   "cell_type": "code",
   "execution_count": null,
   "metadata": {},
   "outputs": [],
   "source": []
  }
 ],
 "metadata": {
  "kernelspec": {
   "display_name": "Python 3",
   "language": "python",
   "name": "python3"
  },
  "language_info": {
   "codemirror_mode": {
    "name": "ipython",
    "version": 3
   },
   "file_extension": ".py",
   "mimetype": "text/x-python",
   "name": "python",
   "nbconvert_exporter": "python",
   "pygments_lexer": "ipython3",
   "version": "3.8.5"
  }
 },
 "nbformat": 4,
 "nbformat_minor": 4
}
