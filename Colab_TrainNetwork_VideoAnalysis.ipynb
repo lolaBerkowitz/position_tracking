{
 "cells": [
  {
   "cell_type": "markdown",
   "metadata": {
    "colab_type": "text",
    "id": "RK255E7YoEIt"
   },
   "source": [
    "# DeepLabCut Toolbox - Colab\n",
    "https://github.com/AlexEMG/DeepLabCut\n",
    "\n",
    "This notebook illustrates how to use the cloud to:\n",
    "- create a training set\n",
    "- train a network\n",
    "- evaluate a network\n",
    "- create simple quality check plots\n",
    "- analyze novel videos!\n",
    "\n",
    "###This notebook assumes you already have a project folder with labeled data! \n",
    "\n",
    "This notebook demonstrates the necessary steps to use DeepLabCut for your own project.\n",
    "\n",
    "This shows the most simple code to do so, but many of the functions have additional features, so please check out the overview & the protocol paper!\n",
    "\n",
    "Nath\\*, Mathis\\* et al.: Using DeepLabCut for markerless pose estimation during behavior across species. Nature Protocols, 2019.\n",
    "\n",
    "\n",
    "Paper: https://www.nature.com/articles/s41596-019-0176-0\n",
    "\n",
    "Pre-print: https://www.biorxiv.org/content/biorxiv/early/2018/11/24/476531.full.pdf\n"
   ]
  },
  {
   "cell_type": "code",
   "execution_count": null,
   "metadata": {},
   "outputs": [],
   "source": [
    "# Link google drive\n",
    "from google.colab import drive\n",
    "drive.mount('/content/drive')"
   ]
  },
  {
   "cell_type": "markdown",
   "metadata": {
    "colab_type": "text",
    "id": "txoddlM8hLKm"
   },
   "source": [
    "## First, go to \"Runtime\" ->\"change runtime type\"->select \"Python3\", and then select \"GPU\"\n"
   ]
  },
  {
   "cell_type": "code",
   "execution_count": null,
   "metadata": {
    "colab": {
     "base_uri": "https://localhost:8080/",
     "height": 1000
    },
    "colab_type": "code",
    "executionInfo": {
     "elapsed": 38734,
     "status": "ok",
     "timestamp": 1595090435087,
     "user": {
      "displayName": "Laura Berkowitz",
      "photoUrl": "",
      "userId": "07722376136251768205"
     },
     "user_tz": 360
    },
    "id": "q23BzhA6CXxu",
    "outputId": "c1481c4a-c27c-4953-c0af-e5df4f693e29"
   },
   "outputs": [],
   "source": [
    "#(this will take a few minutes to install all the dependences!)\n",
    "!pip install deeplabcut"
   ]
  },
  {
   "cell_type": "markdown",
   "metadata": {
    "colab_type": "text",
    "id": "25wSj6TlVclR"
   },
   "source": [
    "**(Be sure to click \"RESTART RUNTIME\" is it is displayed above above before moving on !)**"
   ]
  },
  {
   "cell_type": "code",
   "execution_count": null,
   "metadata": {
    "colab": {
     "base_uri": "https://localhost:8080/",
     "height": 34
    },
    "colab_type": "code",
    "executionInfo": {
     "elapsed": 398,
     "status": "ok",
     "timestamp": 1595090443233,
     "user": {
      "displayName": "Laura Berkowitz",
      "photoUrl": "",
      "userId": "07722376136251768205"
     },
     "user_tz": 360
    },
    "id": "Y36K4Eux3h-X",
    "outputId": "0cd83af8-e88d-4ed9-9b88-ca2ac515cf99"
   },
   "outputs": [],
   "source": [
    "# Use TensorFlow 1.x:\n",
    "%tensorflow_version 1.x"
   ]
  },
  {
   "cell_type": "markdown",
   "metadata": {
    "colab_type": "text",
    "id": "Frnj1RVDyEqs"
   },
   "source": [
    "YOU WILL NEED TO EDIT THE PROJECT PATH **in the config.yaml file** TO BE SET TO YOUR GOOGLE DRIVE LINK!\n",
    "\n",
    "Typically, this will be: /content/drive/My Drive/yourProjectFolderName\n"
   ]
  },
  {
   "cell_type": "code",
   "execution_count": null,
   "metadata": {
    "colab": {},
    "colab_type": "code",
    "id": "vhENAlQnFENJ"
   },
   "outputs": [],
   "source": [
    "#Setup your project variables:\n",
    "# PLEASE EDIT THESE:\n",
    "ProjectPath = '/content/drive/My Drive/DLC_analysis/  \n",
    "ProjectFolderName = 'ephys-Berkowitz-2020-09-18'\n",
    "VideoType = 'avi' \n",
    "\n",
    "#don't edit these:\n",
    "videofile_path = [ProjectPath+'Videos/'] #Enter the list of videos or folder to analyze.\n",
    "videofile_path\n",
    "\n",
    "#dest list \n",
    "dest_path = videofile_path\n"
   ]
  },
  {
   "cell_type": "code",
   "execution_count": null,
   "metadata": {
    "colab": {},
    "colab_type": "code",
    "id": "sXufoX6INe6w"
   },
   "outputs": [],
   "source": [
    "#GUIs don't work on the cloud, so label your data locally on your computer! This will suppress the GUI support\n",
    "import os\n",
    "os.environ[\"DLClight\"]=\"True\""
   ]
  },
  {
   "cell_type": "code",
   "execution_count": null,
   "metadata": {
    "colab": {
     "base_uri": "https://localhost:8080/",
     "height": 224
    },
    "colab_type": "code",
    "executionInfo": {
     "elapsed": 9409,
     "status": "ok",
     "timestamp": 1595090461218,
     "user": {
      "displayName": "Laura Berkowitz",
      "photoUrl": "",
      "userId": "07722376136251768205"
     },
     "user_tz": 360
    },
    "id": "3K9Ndy1beyfG",
    "outputId": "3497b003-4c5e-4aef-b784-d4c336b88d7b"
   },
   "outputs": [],
   "source": [
    "import deeplabcut"
   ]
  },
  {
   "cell_type": "code",
   "execution_count": null,
   "metadata": {
    "colab": {
     "base_uri": "https://localhost:8080/",
     "height": 35
    },
    "colab_type": "code",
    "executionInfo": {
     "elapsed": 610,
     "status": "ok",
     "timestamp": 1595090461220,
     "user": {
      "displayName": "Laura Berkowitz",
      "photoUrl": "",
      "userId": "07722376136251768205"
     },
     "user_tz": 360
    },
    "id": "o4orkg9QTHKK",
    "outputId": "58f3fcd8-dd2b-4cb8-d709-b51ae1be9a84"
   },
   "outputs": [],
   "source": [
    "deeplabcut.__version__"
   ]
  },
  {
   "cell_type": "code",
   "execution_count": null,
   "metadata": {
    "colab": {
     "base_uri": "https://localhost:8080/",
     "height": 35
    },
    "colab_type": "code",
    "executionInfo": {
     "elapsed": 255,
     "status": "ok",
     "timestamp": 1595090463454,
     "user": {
      "displayName": "Laura Berkowitz",
      "photoUrl": "",
      "userId": "07722376136251768205"
     },
     "user_tz": 360
    },
    "id": "Z7ZlDr3wV4D1",
    "outputId": "f3962fdf-0004-4d93-ae12-041e2efee328"
   },
   "outputs": [],
   "source": [
    "#This creates a path variable that links to your google drive copy\n",
    "#No need to edit this, as you set it up before: \n",
    "path_config_file = ProjectPath+ProjectFolderName+'/config.yaml'\n",
    "path_config_file"
   ]
  },
  {
   "cell_type": "markdown",
   "metadata": {
    "colab_type": "text",
    "id": "xNi9s1dboEJN"
   },
   "source": [
    "## Create a training dataset:\n",
    "### You must do this step inside of Colab:\n",
    "After running this script the training dataset is created and saved in the project directory under the subdirectory **'training-datasets'**\n",
    "\n",
    "This function also creates new subdirectories under **dlc-models** and appends the project config.yaml file with the correct path to the training and testing pose configuration file. These files hold the parameters for training the network. Such an example file is provided with the toolbox and named as **pose_cfg.yaml**.\n",
    "\n",
    "Now it is the time to start training the network!"
   ]
  },
  {
   "cell_type": "markdown",
   "metadata": {
    "colab_type": "text",
    "id": "c4FczXGDoEJU"
   },
   "source": [
    "## Start training:\n",
    "This function trains the network for a specific shuffle of the training dataset. "
   ]
  },
  {
   "cell_type": "code",
   "execution_count": null,
   "metadata": {
    "colab": {},
    "colab_type": "code",
    "id": "_pOvDq_2oEJW"
   },
   "outputs": [],
   "source": [
    "#let's also change the display and save_iters just in case Colab takes away the GPU... \n",
    "#if that happens, you can reload from a saved point. Typically, you want to train to 200,000 + iterations.\n",
    "#more info and there are more things you can set: https://github.com/AlexEMG/DeepLabCut/blob/master/docs/functionDetails.md#g-train-the-network\n",
    "\n",
    "deeplabcut.train_network(path_config_file, shuffle=1, displayiters=10,saveiters=500)\n",
    "\n",
    "#this will run until you stop it (CTRL+C), or hit \"STOP\" icon, or when it hits the end (default, 1.03M iterations). \n",
    "#Whichever you chose, you will see what looks like an error message, but it's not an error - don't worry...."
   ]
  },
  {
   "cell_type": "markdown",
   "metadata": {
    "colab_type": "text",
    "id": "RiDwIVf5-3H_"
   },
   "source": [
    "**When you hit \"STOP\" you will get a KeyInterrupt \"error\"! No worries! :)**"
   ]
  },
  {
   "cell_type": "markdown",
   "metadata": {
    "colab_type": "text",
    "id": "xZygsb2DoEJc"
   },
   "source": [
    "## Start evaluating:\n",
    "This funtion evaluates a trained model for a specific shuffle/shuffles at a particular state or all the states on the data set (images)\n",
    "and stores the results as .csv file in a subdirectory under **evaluation-results**"
   ]
  },
  {
   "cell_type": "code",
   "execution_count": null,
   "metadata": {
    "colab": {
     "base_uri": "https://localhost:8080/",
     "height": 103
    },
    "colab_type": "code",
    "executionInfo": {
     "elapsed": 2841,
     "status": "ok",
     "timestamp": 1593548137665,
     "user": {
      "displayName": "Laura Berkowitz",
      "photoUrl": "",
      "userId": "07722376136251768205"
     },
     "user_tz": 360
    },
    "id": "nv4zlbrnoEJg",
    "outputId": "2e26bc1d-fb5d-4ac8-b5e1-8a9fdc0de860"
   },
   "outputs": [],
   "source": [
    "%matplotlib notebook\n",
    "deeplabcut.evaluate_network(path_config_file)\n",
    "path_config_file\n",
    "# Here you want to see a low pixel error! Of course, it can only be as good as the labeler, \n",
    "#so be sure your labels are good! (And you have trained enough ;)"
   ]
  },
  {
   "cell_type": "markdown",
   "metadata": {
    "colab_type": "text",
    "id": "BaLBl3TQtrfB"
   },
   "source": [
    "## There is an optional refinement step you can do outside of Colab:\n",
    "- if your pixel errors are not low enough, please check out the protocol guide on how to refine your network!\n",
    "- You will need to adjust the labels **outside of Colab!** We recommend coming back to train and analyze videos... \n",
    "- pplease see the repo and protocol instructions on how to refine your data!"
   ]
  },
  {
   "cell_type": "markdown",
   "metadata": {
    "colab_type": "text",
    "id": "OVFLSKKfoEJk"
   },
   "source": [
    "## Start Analyzing videos: \n",
    "This function analyzes the new video. The user can choose the best model from the evaluation results and specify the correct snapshot index for the variable **snapshotindex** in the **config.yaml** file. Otherwise, by default the most recent snapshot is used to analyse the video.\n",
    "\n",
    "The results are stored in hd5 file in the same directory where the video resides. \n",
    "\n",
    "* dynamic set to true to maintain tracking around targets"
   ]
  },
  {
   "cell_type": "code",
   "execution_count": null,
   "metadata": {
    "colab": {
     "base_uri": "https://localhost:8080/",
     "height": 973
    },
    "colab_type": "code",
    "executionInfo": {
     "elapsed": 2184478,
     "status": "ok",
     "timestamp": 1595092651710,
     "user": {
      "displayName": "Laura Berkowitz",
      "photoUrl": "",
      "userId": "07722376136251768205"
     },
     "user_tz": 360
    },
    "id": "Y_LZiS_0oEJl",
    "outputId": "34db17ff-6ebf-48b5-f8ee-bdb73be6717c"
   },
   "outputs": [],
   "source": [
    "deeplabcut.analyze_videos(path_config_file,videofile_path, videotype=VideoType,save_as_csv=True,dynamic = (True,.1,90))"
   ]
  },
  {
   "cell_type": "markdown",
   "metadata": {
    "colab_type": "text",
    "id": "8GTiuJESoEKH"
   },
   "source": [
    "## Plot the trajectories of the analyzed videos:\n",
    "This function plots the trajectories of all the body parts across the entire video. Each body part is identified by a unique color."
   ]
  },
  {
   "cell_type": "code",
   "execution_count": null,
   "metadata": {
    "colab": {},
    "colab_type": "code",
    "id": "gX21zZbXoEKJ"
   },
   "outputs": [],
   "source": [
    "deeplabcut.plot_trajectories(path_config_file,videofile_path, videotype=VideoType)"
   ]
  },
  {
   "cell_type": "markdown",
   "metadata": {
    "colab_type": "text",
    "id": "pqaCw15v8EmB"
   },
   "source": [
    "Now you can look at the plot-poses file and check the \"plot-likelihood.png\" might want to change the \"p-cutoff\" in the config.yaml file so that you have only high confidnece points plotted in the video. i.e. ~0.8 or 0.9. The current default is 0.4. "
   ]
  },
  {
   "cell_type": "markdown",
   "metadata": {
    "colab_type": "text",
    "id": "pCrUvQIvoEKD"
   },
   "source": [
    "## Create labeled video:\n",
    "This funtion is for visualiztion purpose and can be used to create a video in .mp4 format with labels predicted by the network. This video is saved in the same directory where the original video resides. "
   ]
  },
  {
   "cell_type": "code",
   "execution_count": null,
   "metadata": {
    "colab": {},
    "colab_type": "code",
    "id": "6aDF7Q7KoEKE"
   },
   "outputs": [],
   "source": [
    "deeplabcut.create_labeled_video(path_config_file,videofile_path, videotype=VideoType)"
   ]
  }
 ],
 "metadata": {
  "accelerator": "GPU",
  "colab": {
   "collapsed_sections": [
    "xNi9s1dboEJN",
    "c4FczXGDoEJU",
    "xZygsb2DoEJc"
   ],
   "name": "PAE_OF_Colab_TrainNetwork_VideoAnalysis.ipynb",
   "provenance": [
    {
     "file_id": "https://github.com/AlexEMG/DeepLabCut/blob/master/examples/COLAB_YOURDATA_TrainNetwork_VideoAnalysis.ipynb",
     "timestamp": 1593544967801
    }
   ]
  },
  "kernelspec": {
   "display_name": "Python 3",
   "language": "python",
   "name": "python3"
  },
  "language_info": {
   "codemirror_mode": {
    "name": "ipython",
    "version": 3
   },
   "file_extension": ".py",
   "mimetype": "text/x-python",
   "name": "python",
   "nbconvert_exporter": "python",
   "pygments_lexer": "ipython3",
   "version": "3.7.6"
  }
 },
 "nbformat": 4,
 "nbformat_minor": 4
}
